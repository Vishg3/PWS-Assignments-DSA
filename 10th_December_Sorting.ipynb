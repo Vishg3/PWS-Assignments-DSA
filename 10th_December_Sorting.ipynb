{
 "cells": [
  {
   "cell_type": "markdown",
   "id": "1673f5e2-64f1-44ae-a05c-7e92c9cb30e2",
   "metadata": {},
   "source": [
    "# Assignment - Sorting"
   ]
  },
  {
   "cell_type": "code",
   "execution_count": 2,
   "id": "fb3c3893-2bae-4a53-a9c0-9c6379f537e7",
   "metadata": {},
   "outputs": [
    {
     "data": {
      "text/plain": [
       "5"
      ]
     },
     "execution_count": 2,
     "metadata": {},
     "output_type": "execute_result"
    }
   ],
   "source": [
    "#1\n",
    "def bsort(arr):\n",
    "    for i in range(len(arr)-1,0,-1):\n",
    "        for j in range(i):\n",
    "            if arr[j]>arr[j+1]:\n",
    "                arr[j],arr[j+1]=arr[j+1],arr[j]\n",
    "def maximum_count(arr):\n",
    "    bsort(arr)\n",
    "    count=1\n",
    "    maxx=1\n",
    "    maxele=arr[0]\n",
    "    for i in range(1,len(arr)):\n",
    "        if arr[i]==arr[i-1]:\n",
    "            count+=1\n",
    "        else:\n",
    "            count=1\n",
    "        if count>maxx:\n",
    "            maxx=count\n",
    "            maxele=arr[i]\n",
    "    return maxele\n",
    "\n",
    "maximum_count([2,5,5,1,5,8,0,6,3,2])"
   ]
  },
  {
   "cell_type": "code",
   "execution_count": 3,
   "id": "bedf5727-56a7-4088-a1b6-0dc56848f9bf",
   "metadata": {},
   "outputs": [
    {
     "name": "stdout",
     "output_type": "stream",
     "text": [
      "5\n"
     ]
    }
   ],
   "source": [
    "#2\n",
    "def missing_num(arr):\n",
    "    n=max(arr)\n",
    "    sumIncludingMissing=n*(n+1)//2\n",
    "    actualSum=sum(arr)\n",
    "    missingNum=sumIncludingMissing-actualSum\n",
    "    return missingNum\n",
    "res=missing_num([1,2,4,6,3,7,8])\n",
    "print(res)"
   ]
  },
  {
   "cell_type": "code",
   "execution_count": 4,
   "id": "c5b431ca-6490-40eb-8ed5-977e2cb132ec",
   "metadata": {},
   "outputs": [
    {
     "data": {
      "text/plain": [
       "3"
      ]
     },
     "execution_count": 4,
     "metadata": {},
     "output_type": "execute_result"
    }
   ],
   "source": [
    "#3\n",
    "def odd_times(arr):\n",
    "    result=0\n",
    "    for num in arr:\n",
    "        result^=num\n",
    "    return result\n",
    "odd_times([1,2,3,2,3,1,3])"
   ]
  },
  {
   "cell_type": "code",
   "execution_count": 5,
   "id": "a6d6be03-1797-43b0-970d-b15e2bc72b8c",
   "metadata": {},
   "outputs": [
    {
     "data": {
      "text/plain": [
       "(5, 10)"
      ]
     },
     "execution_count": 5,
     "metadata": {},
     "output_type": "execute_result"
    }
   ],
   "source": [
    "#4\n",
    "def pair(arr,K):\n",
    "    bsort(arr)\n",
    "    left,right=0,len(arr)-1\n",
    "    while left<right:\n",
    "        summ=arr[left]+arr[right]\n",
    "        if summ==K:\n",
    "            return arr[left],arr[right]\n",
    "        elif summ>K:\n",
    "            right-=1\n",
    "        else:\n",
    "            left+=1\n",
    "    return 'Not there'\n",
    "pair([3,8,5,2,10,7],15)"
   ]
  },
  {
   "cell_type": "code",
   "execution_count": 6,
   "id": "66a6d3f7-6a36-4e85-9313-74288b836222",
   "metadata": {},
   "outputs": [
    {
     "data": {
      "text/plain": [
       "(-80, 85)"
      ]
     },
     "execution_count": 6,
     "metadata": {},
     "output_type": "execute_result"
    }
   ],
   "source": [
    "#5\n",
    "def closest(arr):\n",
    "    bsort(arr)\n",
    "    left,right=0,len(arr)-1\n",
    "    sumMin=float('inf')\n",
    "    res=(None,None)\n",
    "    while left<right:\n",
    "        summ=arr[left]+arr[right]\n",
    "        if abs(summ)<sumMin:\n",
    "            sumMin=abs(summ)\n",
    "            res=(arr[left],arr[right])\n",
    "        if summ<0:\n",
    "            left+=1\n",
    "        elif summ>0:\n",
    "            right-=1\n",
    "        else:\n",
    "            return res\n",
    "    return res\n",
    "closest([1,60,-10,70,-80,85])"
   ]
  },
  {
   "cell_type": "code",
   "execution_count": 10,
   "id": "8920c748-84c4-4c64-9f60-983be2d13da8",
   "metadata": {},
   "outputs": [
    {
     "data": {
      "text/plain": [
       "(3, 5, 8)"
      ]
     },
     "execution_count": 10,
     "metadata": {},
     "output_type": "execute_result"
    }
   ],
   "source": [
    "#6\n",
    "def trio(arr,K):\n",
    "    bsort(arr)\n",
    "    n=len(arr)\n",
    "    for i in range(n-2):\n",
    "        left=i+1\n",
    "        right=n-1\n",
    "        while left<right:\n",
    "            summ=arr[i]+arr[left]+arr[right]\n",
    "            if summ==K:\n",
    "                return arr[i],arr[left],arr[right]\n",
    "            elif summ<K:\n",
    "                left+=1\n",
    "            else:\n",
    "                right-=1\n",
    "    return 'Not there'\n",
    "trio([3,8,5,2,10,7],16)"
   ]
  },
  {
   "cell_type": "code",
   "execution_count": 24,
   "id": "5350bae5-eecc-4740-8fcf-9ae0bd0e8193",
   "metadata": {},
   "outputs": [
    {
     "name": "stdout",
     "output_type": "stream",
     "text": [
      "(3, 4, 5)\n"
     ]
    }
   ],
   "source": [
    "#7\n",
    "def find_triplet(arr):\n",
    "    n=len(arr)\n",
    "    bsort(arr)\n",
    "    for k in range(n-1,1,-1):\n",
    "        i,j=0,k-1\n",
    "        while i<j:\n",
    "            sum_of_squares=arr[i]**2 + arr[j]**2\n",
    "            if sum_of_squares==arr[k]**2:\n",
    "                return arr[i],arr[j],arr[k]\n",
    "            elif sum_of_squares<arr[k]**2:\n",
    "                i+=1\n",
    "            else:\n",
    "                j-=1\n",
    "    return 'Not there'\n",
    "arr=[3,1,4,6,5]\n",
    "result=find_triplet(arr)\n",
    "print(result)"
   ]
  },
  {
   "cell_type": "code",
   "execution_count": 25,
   "id": "5aa7098d-2488-4114-8f0a-81ca768ef6ec",
   "metadata": {},
   "outputs": [
    {
     "name": "stdout",
     "output_type": "stream",
     "text": [
      "The majority element is: 2\n"
     ]
    }
   ],
   "source": [
    "#8\n",
    "def find_majority_element(nums):\n",
    "    candidate = None\n",
    "    count = 0\n",
    "    for num in nums:\n",
    "        if count == 0:\n",
    "            candidate = num\n",
    "        count += 1 if num == candidate else -1\n",
    "    count = 0\n",
    "    for num in nums:\n",
    "        if num == candidate:\n",
    "            count += 1\n",
    "    if count > len(nums) // 2:\n",
    "        return candidate\n",
    "    else:\n",
    "        return None  \n",
    "arr = [2, 2, 1, 1, 1, 2, 2]\n",
    "result = find_majority_element(arr)\n",
    "if result is not None:\n",
    "    print(f\"The majority element is: {result}\")\n",
    "else:\n",
    "    print(\"There is no majority element.\")"
   ]
  },
  {
   "cell_type": "code",
   "execution_count": 26,
   "id": "7c5a29d2-9e3e-45b6-b62c-a7de2688140f",
   "metadata": {},
   "outputs": [
    {
     "name": "stdout",
     "output_type": "stream",
     "text": [
      "The row with the maximum number of zeros is: 4\n"
     ]
    }
   ],
   "source": [
    "#9\n",
    "def find_row_with_max_zeros(matrix):\n",
    "    rows, cols = len(matrix), len(matrix[0])\n",
    "    row, col = 0, cols - 1  \n",
    "    max_zeros_row = 0\n",
    "    while row < rows and col >= 0:\n",
    "        if matrix[row][col] == 1:\n",
    "            col -= 1\n",
    "        else:\n",
    "            max_zeros_row = row\n",
    "            row += 1\n",
    "    return max_zeros_row\n",
    "matrix = [\n",
    "    [1, 1, 1, 1, 0],\n",
    "    [1, 1, 1, 0, 0],\n",
    "    [1, 1, 0, 0, 0],\n",
    "    [1, 1, 0, 0, 0],\n",
    "    [1, 0, 0, 0, 0]\n",
    "]\n",
    "result = find_row_with_max_zeros(matrix)\n",
    "print(f\"The row with the maximum number of zeros is: {result}\")"
   ]
  },
  {
   "cell_type": "code",
   "execution_count": 27,
   "id": "d2f7ae1a-8005-45aa-8439-d01006566c5f",
   "metadata": {},
   "outputs": [
    {
     "name": "stdout",
     "output_type": "stream",
     "text": [
      "Sorted array: [0, 0, 0, 0, 0, 1, 1, 1, 1, 1, 2, 2]\n"
     ]
    }
   ],
   "source": [
    "#10\n",
    "def sort_012(arr):\n",
    "    low, mid, high = 0, 0, len(arr) - 1\n",
    "    while mid <= high:\n",
    "        if arr[mid] == 0:\n",
    "            arr[low], arr[mid] = arr[mid], arr[low]\n",
    "            low += 1\n",
    "            mid += 1\n",
    "        elif arr[mid] == 1:\n",
    "            mid += 1\n",
    "        else:\n",
    "            arr[mid], arr[high] = arr[high], arr[mid]\n",
    "            high -= 1\n",
    "arr = [0, 1, 1, 0, 1, 2, 1, 2, 0, 0, 0, 1]\n",
    "sort_012(arr)\n",
    "print(\"Sorted array:\", arr)"
   ]
  }
 ],
 "metadata": {
  "kernelspec": {
   "display_name": "Python 3 (ipykernel)",
   "language": "python",
   "name": "python3"
  },
  "language_info": {
   "codemirror_mode": {
    "name": "ipython",
    "version": 3
   },
   "file_extension": ".py",
   "mimetype": "text/x-python",
   "name": "python",
   "nbconvert_exporter": "python",
   "pygments_lexer": "ipython3",
   "version": "3.11.6"
  }
 },
 "nbformat": 4,
 "nbformat_minor": 5
}
