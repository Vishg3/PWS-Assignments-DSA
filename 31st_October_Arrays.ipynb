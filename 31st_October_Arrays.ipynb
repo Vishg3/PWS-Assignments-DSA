{
 "cells": [
  {
   "cell_type": "markdown",
   "id": "4dad9813-dfd7-4402-84d8-bbcd2524fc25",
   "metadata": {},
   "source": [
    "# Assignment - Arrays"
   ]
  },
  {
   "cell_type": "code",
   "execution_count": 4,
   "id": "f4f3ae32-6e63-4568-a74e-d5c782419bc2",
   "metadata": {},
   "outputs": [
    {
     "data": {
      "text/plain": [
       "True"
      ]
     },
     "execution_count": 4,
     "metadata": {},
     "output_type": "execute_result"
    }
   ],
   "source": [
    "#1\n",
    "def contains_duplicates(arr):\n",
    "    non_duplicates=set()\n",
    "    for num in arr:\n",
    "        if num in non_duplicates:\n",
    "            return True\n",
    "        non_duplicates.add(num)\n",
    "    return False\n",
    "\n",
    "arr=[1,2,4,2,5,9]\n",
    "contains_duplicates(arr)"
   ]
  },
  {
   "cell_type": "code",
   "execution_count": 5,
   "id": "f70253e6-21fd-4d70-b0d3-c335d7d9dd82",
   "metadata": {},
   "outputs": [
    {
     "name": "stdout",
     "output_type": "stream",
     "text": [
      "[5, 6, 7, 1, 2, 3, 4]\n"
     ]
    }
   ],
   "source": [
    "#2\n",
    "def rotate_array(arr,k):\n",
    "    if not arr:\n",
    "        return arr \n",
    "    n=len(arr)\n",
    "    k%=n \n",
    "    rotated=arr[-k:]+arr[:-k]\n",
    "    return rotated\n",
    "\n",
    "arr=[1,2,3,4,5,6,7]\n",
    "k=3\n",
    "output=rotate_array(arr,k)\n",
    "print(output) "
   ]
  },
  {
   "cell_type": "code",
   "execution_count": 6,
   "id": "f457f93e-801a-47b8-b5d2-5a330dbeb4d9",
   "metadata": {},
   "outputs": [
    {
     "name": "stdout",
     "output_type": "stream",
     "text": [
      "[12, 9, 7, 5, 4, 2]\n"
     ]
    }
   ],
   "source": [
    "#3\n",
    "def reverse_array_in_place(arr):\n",
    "    left=0\n",
    "    right=len(arr)-1\n",
    "    while left<right:\n",
    "        arr[left],arr[right]=arr[right],arr[left]\n",
    "        left+=1\n",
    "        right-=1\n",
    "        \n",
    "arr = [2,4,5,7,9,12]\n",
    "reverse_array_in_place(arr)\n",
    "print(arr) "
   ]
  },
  {
   "cell_type": "code",
   "execution_count": 7,
   "id": "0fde1b71-5232-444a-8bab-412e936bf915",
   "metadata": {},
   "outputs": [
    {
     "name": "stdout",
     "output_type": "stream",
     "text": [
      "20\n"
     ]
    }
   ],
   "source": [
    "#4\n",
    "def find_max_element(arr):\n",
    "    if not arr:\n",
    "        return None \n",
    "    max_element=arr[0] \n",
    "    for num in arr:\n",
    "        if num>max_element:\n",
    "            max_element=num \n",
    "    return max_element\n",
    "\n",
    "arr=[10,5,20,8,15]\n",
    "output=find_max_element(arr)\n",
    "print(output)  "
   ]
  },
  {
   "cell_type": "code",
   "execution_count": 9,
   "id": "efc71a3d-e22e-4332-bb07-326eb0e96981",
   "metadata": {},
   "outputs": [
    {
     "name": "stdout",
     "output_type": "stream",
     "text": [
      "[1, 2, 3, 4, 5]\n"
     ]
    }
   ],
   "source": [
    "#5\n",
    "def remove_duplicates(arr):\n",
    "    if not arr:\n",
    "        return 0  \n",
    "    new_length=1 \n",
    "    for i in range(1,len(arr)):\n",
    "        if arr[i]!=arr[i-1]:\n",
    "            arr[new_length]=arr[i]  \n",
    "            new_length+=1\n",
    "    return new_length\n",
    "\n",
    "arr=[1,1,2,2,2,3,3,4,4,4,5,5]\n",
    "new_length=remove_duplicates(arr)\n",
    "print(arr[:new_length]) "
   ]
  }
 ],
 "metadata": {
  "kernelspec": {
   "display_name": "Python 3 (ipykernel)",
   "language": "python",
   "name": "python3"
  },
  "language_info": {
   "codemirror_mode": {
    "name": "ipython",
    "version": 3
   },
   "file_extension": ".py",
   "mimetype": "text/x-python",
   "name": "python",
   "nbconvert_exporter": "python",
   "pygments_lexer": "ipython3",
   "version": "3.12.0"
  }
 },
 "nbformat": 4,
 "nbformat_minor": 5
}
