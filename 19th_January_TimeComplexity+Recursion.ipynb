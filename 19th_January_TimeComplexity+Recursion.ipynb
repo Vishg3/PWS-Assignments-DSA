{
 "cells": [
  {
   "cell_type": "markdown",
   "id": "09813aaa-6da6-4ab9-a1b5-bf0986b8886e",
   "metadata": {},
   "source": [
    "# Assignment - Time Complexity + Recursion"
   ]
  },
  {
   "cell_type": "code",
   "execution_count": 2,
   "id": "cfbe18fb-0a2c-44ba-9e6c-9126ee168fbc",
   "metadata": {},
   "outputs": [],
   "source": [
    "#1\n",
    "#Time complexity:\n",
    "#Worst case=O(n^2)\n",
    "#Average case=O(nlogn)"
   ]
  },
  {
   "cell_type": "code",
   "execution_count": 2,
   "id": "773f2ccb-8c56-4555-8801-f80ebb8a7573",
   "metadata": {},
   "outputs": [],
   "source": [
    "#2\n",
    "#Time complexity=O(n^2)"
   ]
  },
  {
   "cell_type": "code",
   "execution_count": 3,
   "id": "a39d164f-828b-40aa-836a-f457ff7aa42b",
   "metadata": {},
   "outputs": [],
   "source": [
    "#3\n",
    "#Time complexity=O(n)"
   ]
  },
  {
   "cell_type": "code",
   "execution_count": 4,
   "id": "4da0411f-254c-46ce-bd1b-f30a242feffe",
   "metadata": {},
   "outputs": [],
   "source": [
    "#4\n",
    "#Time complexity=O(n^2)"
   ]
  },
  {
   "cell_type": "code",
   "execution_count": 5,
   "id": "ff84c595-96c3-4b05-9a1b-7969580c1c7a",
   "metadata": {},
   "outputs": [],
   "source": [
    "#5\n",
    "#Time complexity=O(n^2)"
   ]
  },
  {
   "cell_type": "code",
   "execution_count": 9,
   "id": "e85836f4-26c1-4b63-8f02-fe08427d5c58",
   "metadata": {},
   "outputs": [
    {
     "data": {
      "text/plain": [
       "6"
      ]
     },
     "execution_count": 9,
     "metadata": {},
     "output_type": "execute_result"
    }
   ],
   "source": [
    "#6\n",
    "def sum_of_digits(num):\n",
    "    n=str(num)\n",
    "    if len(n)==1:\n",
    "        return int(n)\n",
    "    return int(n)%10 +sum_of_digits(int(n)//10)\n",
    "sum_of_digits(123)"
   ]
  },
  {
   "cell_type": "code",
   "execution_count": 13,
   "id": "38b67b8f-3598-489b-a1ec-aec780c9d82b",
   "metadata": {},
   "outputs": [
    {
     "data": {
      "text/plain": [
       "[0, 1, 1, 2, 3, 5]"
      ]
     },
     "execution_count": 13,
     "metadata": {},
     "output_type": "execute_result"
    }
   ],
   "source": [
    "#7\n",
    "def gen_fib(n):\n",
    "    if n<=0:\n",
    "        return []\n",
    "    elif n==1:\n",
    "        return [0]\n",
    "    elif n==2:\n",
    "        return [0,1]\n",
    "    else:\n",
    "        prev=gen_fib(n-1) \n",
    "        return prev+[prev[-1]+prev[-2]]\n",
    "gen_fib(6)"
   ]
  },
  {
   "cell_type": "code",
   "execution_count": 4,
   "id": "e2b77f32-e406-43ee-b6f7-3f0397ce8e47",
   "metadata": {},
   "outputs": [
    {
     "name": "stdout",
     "output_type": "stream",
     "text": [
      "True\n"
     ]
    }
   ],
   "source": [
    "#8\n",
    "def subset_sum(nums, target):\n",
    "    if target == 0:\n",
    "        return True\n",
    "    if not nums or target < 0:\n",
    "        return False\n",
    "    if subset_sum(nums[:-1], target - nums[-1]):\n",
    "        return True\n",
    "    if subset_sum(nums[:-1], target):\n",
    "        return True\n",
    "    return False\n",
    "print(subset_sum([3, 34, 4, 12, 5, 2], 9))  "
   ]
  },
  {
   "cell_type": "code",
   "execution_count": 1,
   "id": "7cfa4503-d778-431f-83c7-bf466886874f",
   "metadata": {},
   "outputs": [
    {
     "data": {
      "text/plain": [
       "True"
      ]
     },
     "execution_count": 1,
     "metadata": {},
     "output_type": "execute_result"
    }
   ],
   "source": [
    "#9\n",
    "def word_break(word,wordList):\n",
    "    if word==\"\":\n",
    "        return True\n",
    "    else:\n",
    "        wordLen=len(word)\n",
    "        for i in range(1,wordLen+1):\n",
    "            if word[:i] in wordList and word_break(word[i:],wordList):\n",
    "                return True\n",
    "        return False\n",
    "word_break(\"leetcode\",[\"leet\",\"code\"])"
   ]
  },
  {
   "cell_type": "code",
   "execution_count": 8,
   "id": "f621daee-cfe5-47bc-b6a5-07af3efab86d",
   "metadata": {},
   "outputs": [
    {
     "name": "stdout",
     "output_type": "stream",
     "text": [
      "Q . . . . . . . \n",
      ". . . . . . Q . \n",
      ". . . . Q . . . \n",
      ". . . . . . . Q \n",
      ". Q . . . . . . \n",
      ". . . Q . . . . \n",
      ". . . . . Q . . \n",
      ". . Q . . . . . \n"
     ]
    }
   ],
   "source": [
    "#10\n",
    "def isSafeToPlaceQueen(board , row , col , n):\n",
    "  for i in range(col):\n",
    "    if board[row][i]==1 :\n",
    "      return False\n",
    "  for i, j in zip(range(row,-1,-1),range(col,-1,-1)):\n",
    "    if board[i][j] ==1:\n",
    "      return False\n",
    "  for i,j in zip(range(row,n,1 ), range(col, -1,-1)):\n",
    "    if board[i][j]==1:\n",
    "      return False\n",
    "  return True\n",
    "\n",
    "def solveNQ(board,n):\n",
    "  if not solveNQUtil(board,0,n):\n",
    "    print(\"Solution doesn't exist\")\n",
    "    return\n",
    "  printBoard(board,n)\n",
    "    \n",
    "def solveNQUtil(board , col , n):\n",
    "  if(col >=n):\n",
    "    return True  \n",
    "  for row in range(n) :\n",
    "    if isSafeToPlaceQueen(board,row,col, n) :\n",
    "      board[row][col]= 1 \n",
    "      if solveNQUtil(board,col+1,n):\n",
    "        return True\n",
    "      board[row][col]= 0 \n",
    "  return False \n",
    "\n",
    "def printBoard(board,n):\n",
    "  for i in range(n):\n",
    "    for j in range(n):\n",
    "      if board[i][j]==1 :\n",
    "        print(\"Q\",end=\" \")\n",
    "      else :\n",
    "        print(\".\",end=\" \")\n",
    "    print()\n",
    "      \n",
    "board8 = [[0,0,0,0,0,0,0,0],\n",
    "          [0,0,0,0,0,0,0,0],\n",
    "          [0,0,0,0,0,0,0,0],\n",
    "          [0,0,0,0,0,0,0,0],\n",
    "          [0,0,0,0,0,0,0,0],\n",
    "          [0,0,0,0,0,0,0,0],\n",
    "          [0,0,0,0,0,0,0,0],\n",
    "          [0,0,0,0,0,0,0,0]\n",
    "          ]\n",
    "solveNQ(board8,8)"
   ]
  }
 ],
 "metadata": {
  "kernelspec": {
   "display_name": "Python 3 (ipykernel)",
   "language": "python",
   "name": "python3"
  },
  "language_info": {
   "codemirror_mode": {
    "name": "ipython",
    "version": 3
   },
   "file_extension": ".py",
   "mimetype": "text/x-python",
   "name": "python",
   "nbconvert_exporter": "python",
   "pygments_lexer": "ipython3",
   "version": "3.11.6"
  }
 },
 "nbformat": 4,
 "nbformat_minor": 5
}
