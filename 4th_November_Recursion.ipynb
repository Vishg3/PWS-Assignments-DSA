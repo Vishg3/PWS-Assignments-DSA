{
 "cells": [
  {
   "cell_type": "markdown",
   "id": "144b8207-94a7-477c-8b4c-ff4c862bc752",
   "metadata": {},
   "source": [
    "# Assignment - Recursion"
   ]
  },
  {
   "cell_type": "code",
   "execution_count": 4,
   "id": "4706f171-b831-4b2d-a0d3-70e18ba70cb3",
   "metadata": {},
   "outputs": [
    {
     "name": "stdout",
     "output_type": "stream",
     "text": [
      "Move disk 1 from A to C\n",
      "Move disk 2 from A to B\n",
      "Move disk 1 from C to B\n",
      "Move disk 3 from A to C\n",
      "Move disk 1 from B to A\n",
      "Move disk 2 from B to C\n",
      "Move disk 1 from A to C\n"
     ]
    }
   ],
   "source": [
    "#1\n",
    "#The Tower of Hanoi algorithm involves recursively moving a stack of disks from one rod to another, adhering to the rules that a smaller disk cannot be placed on top \n",
    "#of a larger one. The Python program illustrating the logic:\n",
    "\n",
    "def tower_of_hanoi(n,source,target,auxiliary):\n",
    "    if n>0:\n",
    "        #Step 1: Move the top n-1 disks from source to auxiliary\n",
    "        tower_of_hanoi(n-1,source,auxiliary,target)\n",
    "\n",
    "        #Step 2: Move the nth disk from source to target\n",
    "        print(f\"Move disk {n} from {source} to {target}\")\n",
    "\n",
    "        #Step 3: Move the n-1 disks from auxiliary to target\n",
    "        tower_of_hanoi(n-1,auxiliary,target,source)\n",
    "\n",
    "#Example usage for 3 disks on rods A, B and C\n",
    "tower_of_hanoi(3,'A','C','B')\n",
    "\n",
    "#The `tower_of_hanoi` function is called recursively to move `n` disks from the source rod to the target rod using the auxiliary rod. The movements are printed out, and the \n",
    "#recursion ensures that the smaller subproblems are solved first, gradually solving the entire Tower of Hanoi problem."
   ]
  },
  {
   "cell_type": "code",
   "execution_count": 6,
   "id": "789db6bd-4daf-4210-bd45-7b5acaf5f613",
   "metadata": {},
   "outputs": [
    {
     "name": "stdout",
     "output_type": "stream",
     "text": [
      "Example 1 Output: 3\n",
      "Example 2 Output: 5\n"
     ]
    }
   ],
   "source": [
    "#2\n",
    "def minDistance(word1, word2):\n",
    "    m,n = len(word1), len(word2)\n",
    "\n",
    "    #Create a matrix to store the minimum number of operations\n",
    "    dp = [[0] * (n + 1) for _ in range(m + 1)]\n",
    "\n",
    "    #Initialize the first row and column\n",
    "    for i in range(m + 1):\n",
    "        dp[i][0] = i\n",
    "    for j in range(n + 1):\n",
    "        dp[0][j] = j\n",
    "\n",
    "    #Fill in the matrix using dynamic programming\n",
    "    for i in range(1, m + 1):\n",
    "        for j in range(1, n + 1):\n",
    "            if word1[i - 1] == word2[j - 1]:\n",
    "                dp[i][j] = dp[i - 1][j - 1]\n",
    "            else:\n",
    "                dp[i][j] = min(dp[i - 1][j],      # Deletion\n",
    "                              dp[i][j - 1],      # Insertion\n",
    "                              dp[i - 1][j - 1]) + 1  # Substitution\n",
    "\n",
    "    #The bottom-right cell contains the minimum number of operations\n",
    "    return dp[m][n]\n",
    "\n",
    "#Example 1\n",
    "word1_1, word2_1 = \"horse\", \"ros\"\n",
    "output_1 = minDistance(word1_1, word2_1)\n",
    "print(\"Example 1 Output:\", output_1)\n",
    "\n",
    "#Example 2\n",
    "word1_2, word2_2 = \"intention\", \"execution\"\n",
    "output_2 = minDistance(word1_2, word2_2)\n",
    "print(\"Example 2 Output:\", output_2)"
   ]
  },
  {
   "cell_type": "code",
   "execution_count": 9,
   "id": "80ca570e-261f-4cda-98a5-7d07e46f8683",
   "metadata": {},
   "outputs": [
    {
     "name": "stdout",
     "output_type": "stream",
     "text": [
      "Maximum value in the array: 22\n"
     ]
    }
   ],
   "source": [
    "#3\n",
    "def find_max_recursive(arr, n):\n",
    "    #Base case: if the array has only one element, return that element\n",
    "    if n == 1:\n",
    "        return arr[0]\n",
    "\n",
    "    #Recursive case: compare the last element with the maximum of the rest of the array\n",
    "    return max(arr[n - 1], find_max_recursive(arr, n - 1))\n",
    "\n",
    "#Example usage\n",
    "arr = [13, 1, -3, 22, 5]\n",
    "max_value = find_max_recursive(arr, len(arr))\n",
    "print(\"Maximum value in the array:\", max_value)"
   ]
  },
  {
   "cell_type": "code",
   "execution_count": 10,
   "id": "43ed7f83-dde3-4d80-b9c2-e6e47476f727",
   "metadata": {},
   "outputs": [
    {
     "name": "stdout",
     "output_type": "stream",
     "text": [
      "Sum of the array: 120\n"
     ]
    }
   ],
   "source": [
    "#4\n",
    "def array_sum(arr, index):\n",
    "    #Base case: if the index is out of bounds, return 0\n",
    "    if index == len(arr):\n",
    "        return 0\n",
    "    else:\n",
    "        #Recursive case: add the current element to the sum of the rest of the array\n",
    "        return arr[index] + array_sum(arr, index + 1)\n",
    "\n",
    "#Example array\n",
    "my_array = [92, 23, 15, -20, 10]\n",
    "\n",
    "#Call the function with the array and starting index 0\n",
    "result = array_sum(my_array, 0)\n",
    "\n",
    "print(\"Sum of the array:\", result)"
   ]
  },
  {
   "cell_type": "code",
   "execution_count": 4,
   "id": "1ff68122-7c69-4c08-960b-bc77f8b6cb33",
   "metadata": {},
   "outputs": [
    {
     "name": "stdin",
     "output_type": "stream",
     "text": [
      "Enter a number:  153\n"
     ]
    },
    {
     "name": "stdout",
     "output_type": "stream",
     "text": [
      "Yes\n"
     ]
    }
   ],
   "source": [
    "#5\n",
    "def count_digits(n):\n",
    "    if n == 0:\n",
    "        return 0\n",
    "    else:\n",
    "        return 1 + count_digits(n // 10)\n",
    "\n",
    "def is_armstrong(n, num_digits):\n",
    "    if n == 0:\n",
    "        return 0\n",
    "    else:\n",
    "        digit = n % 10\n",
    "        return (digit ** num_digits) + is_armstrong(n // 10, num_digits)\n",
    "\n",
    "def main():\n",
    "    # Input\n",
    "    num = int(input(\"Enter a number: \"))\n",
    "\n",
    "    # Count the number of digits in the input number\n",
    "    num_digits = count_digits(num)\n",
    "\n",
    "    # Check if the number is an Armstrong number\n",
    "    if num == is_armstrong(num, num_digits):\n",
    "        print(\"Yes\")\n",
    "    else:\n",
    "        print(\"No\")\n",
    "\n",
    "if __name__ == \"__main__\":\n",
    "    main()"
   ]
  }
 ],
 "metadata": {
  "kernelspec": {
   "display_name": "Python 3 (ipykernel)",
   "language": "python",
   "name": "python3"
  },
  "language_info": {
   "codemirror_mode": {
    "name": "ipython",
    "version": 3
   },
   "file_extension": ".py",
   "mimetype": "text/x-python",
   "name": "python",
   "nbconvert_exporter": "python",
   "pygments_lexer": "ipython3",
   "version": "3.12.0"
  }
 },
 "nbformat": 4,
 "nbformat_minor": 5
}
