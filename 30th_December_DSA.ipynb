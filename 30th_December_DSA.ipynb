{
 "cells": [
  {
   "cell_type": "markdown",
   "id": "71c6ff89-531f-4c7d-a412-29b25a481031",
   "metadata": {},
   "source": [
    "# Assignment - DSA"
   ]
  },
  {
   "cell_type": "code",
   "execution_count": 1,
   "id": "56d572ec-fca3-4708-8a0b-7a7ae5e6fb0d",
   "metadata": {},
   "outputs": [
    {
     "name": "stdout",
     "output_type": "stream",
     "text": [
      "1->2->3->4->5->\n",
      "5->4->3->2->1->"
     ]
    }
   ],
   "source": [
    "#1\n",
    "class Node :\n",
    "\n",
    "  def __init__(self,data=None, next=None):\n",
    "    self.data = data\n",
    "    self.next = next\n",
    "\n",
    "  def setData(self,data):\n",
    "    self.data = data\n",
    "\n",
    "  def getData(self):\n",
    "    return self.data\n",
    "\n",
    "  def setNext(self, next):\n",
    "    self.next = next\n",
    "\n",
    "  def getNext(self):\n",
    "    return self.next\n",
    "\n",
    "def traverse(head):\n",
    "  temp = head\n",
    "  while(temp):\n",
    "    print(temp.getData(),end=\"->\")\n",
    "    temp = temp.getNext()\n",
    "\n",
    "def reverse(head):\n",
    "    current=head\n",
    "    prev=None\n",
    "    while current:\n",
    "        nextN=current.getNext()\n",
    "        current.next=prev\n",
    "        prev=current\n",
    "        current=nextN\n",
    "    return prev\n",
    "\n",
    "head = Node(1)\n",
    "node2 = Node(2)\n",
    "node3 = Node(3)\n",
    "node4 = Node(4)\n",
    "node5 = Node(5)\n",
    "\n",
    "head.setNext(node2)\n",
    "node2.setNext(node3)\n",
    "node3.setNext(node4)\n",
    "node4.setNext(node5)\n",
    "\n",
    "traverse(head)\n",
    "print()\n",
    "head=reverse(head)\n",
    "traverse(head)"
   ]
  },
  {
   "cell_type": "code",
   "execution_count": 2,
   "id": "3d168cfc-0dd5-4103-87e9-2cda2fc303fe",
   "metadata": {},
   "outputs": [
    {
     "name": "stdout",
     "output_type": "stream",
     "text": [
      "1->3->5->\n",
      "2->4->6->\n",
      "1->2->3->4->5->6->"
     ]
    }
   ],
   "source": [
    "#2\n",
    "head1 = Node(1)\n",
    "node2 = Node(3)\n",
    "node3 = Node(5)\n",
    "head1.setNext(node2)\n",
    "node2.setNext(node3)\n",
    "\n",
    "traverse(head1)\n",
    "print()\n",
    "\n",
    "head2 = Node(2)\n",
    "nodeb = Node(4)\n",
    "nodec = Node(6)\n",
    "head2.setNext(nodeb)\n",
    "nodeb.setNext(nodec)\n",
    "\n",
    "traverse(head2)\n",
    "print()\n",
    "\n",
    "def merge_sorted_LLs(head1,head2):\n",
    "    dummy=Node(0)\n",
    "    current=dummy\n",
    "    while head1 is not None and head2 is not None:\n",
    "        if head1.data<head2.data:\n",
    "            current.setNext(head1)\n",
    "            head1=head1.getNext()\n",
    "        else:\n",
    "            current.setNext(head2)\n",
    "            head2=head2.getNext()\n",
    "        current=current.getNext()\n",
    "    if head1 is not None:\n",
    "        current.setNext(head1)\n",
    "    elif head2 is not None:\n",
    "        current.setNext(head2)\n",
    "    return dummy.getNext()\n",
    "\n",
    "m=merge_sorted_LLs(head1,head2)\n",
    "traverse(m)"
   ]
  },
  {
   "cell_type": "code",
   "execution_count": 3,
   "id": "664be43b-c779-41bf-afbe-5a9921dfff15",
   "metadata": {},
   "outputs": [
    {
     "name": "stdout",
     "output_type": "stream",
     "text": [
      "Original linked list:\n",
      "1->2->3->4->5->\n",
      "\n",
      "Linked list after removing 5th node from the end:\n",
      "2->3->4->5->\n"
     ]
    }
   ],
   "source": [
    "#3\n",
    "class Node:\n",
    "    def __init__(self, data):\n",
    "        self.data = data\n",
    "        self.next = None\n",
    "\n",
    "def traverse(head):\n",
    "    while head:\n",
    "        print(head.data, end=\"->\")\n",
    "        head = head.next\n",
    "    print()\n",
    "\n",
    "def lengthLL(head):\n",
    "    length = 0\n",
    "    while head:\n",
    "        length += 1\n",
    "        head = head.next\n",
    "    return length\n",
    "\n",
    "def remove_nth_node(head, n):\n",
    "    total_length = lengthLL(head)\n",
    "    if n > total_length or n <= 0:\n",
    "        print(\"Invalid value of n\")\n",
    "        return head\n",
    "\n",
    "    if n == total_length:\n",
    "        head = head.next\n",
    "    else:\n",
    "        prev = None\n",
    "        current = head\n",
    "        for _ in range(total_length - n):\n",
    "            prev = current\n",
    "            current = current.next\n",
    "        if prev:\n",
    "            prev.next = current.next\n",
    "        else:\n",
    "            head = head.next\n",
    "\n",
    "    return head\n",
    "\n",
    "head = Node(1)\n",
    "node2 = Node(2)\n",
    "node3 = Node(3)\n",
    "node4 = Node(4)\n",
    "node5 = Node(5)\n",
    "\n",
    "head.next = node2\n",
    "node2.next = node3\n",
    "node3.next = node4\n",
    "node4.next = node5\n",
    "\n",
    "print(\"Original linked list:\")\n",
    "traverse(head)\n",
    "print()\n",
    "\n",
    "n = 5\n",
    "head = remove_nth_node(head, n)\n",
    "\n",
    "print(f\"Linked list after removing {n}th node from the end:\")\n",
    "traverse(head)\n"
   ]
  },
  {
   "cell_type": "code",
   "execution_count": 10,
   "id": "505300f0-b824-4708-b58b-c085a814e819",
   "metadata": {},
   "outputs": [
    {
     "name": "stdout",
     "output_type": "stream",
     "text": [
      "1->2->3->4->\n",
      "9->8->3->4->\n",
      "3 is intersection point node value\n"
     ]
    }
   ],
   "source": [
    "#4\n",
    "class Node :\n",
    "\n",
    "  def __init__(self,data=None, next=None):\n",
    "    self.data = data\n",
    "    self.next = next\n",
    "\n",
    "  def setData(self,data):\n",
    "    self.data = data\n",
    "\n",
    "  def getData(self):\n",
    "    return self.data\n",
    "\n",
    "  def setNext(self, next):\n",
    "    self.next = next\n",
    "\n",
    "  def getNext(self):\n",
    "    return self.next\n",
    "\n",
    "def traverse(head):\n",
    "  temp = head\n",
    "  while(temp):\n",
    "    print(temp.getData(),end=\"->\")\n",
    "    temp = temp.getNext()\n",
    "\n",
    "def lengthLL(head):\n",
    "    length = 0\n",
    "    while head:\n",
    "        length += 1\n",
    "        head = head.next\n",
    "    return length\n",
    "\n",
    "head1 = Node(1)\n",
    "node2 = Node(2)\n",
    "node3 = Node(3)\n",
    "node4 = Node(4)\n",
    "head1.setNext(node2)\n",
    "node2.setNext(node3)\n",
    "node3.setNext(node4)\n",
    "\n",
    "traverse(head1)\n",
    "print()\n",
    "\n",
    "head2 = Node(9)\n",
    "nodeb = Node(8)\n",
    "nodec = Node(3)\n",
    "noded = Node(4)\n",
    "head2.setNext(nodeb)\n",
    "nodeb.setNext(nodec)\n",
    "nodec.setNext(noded)\n",
    "\n",
    "traverse(head2)\n",
    "print()\n",
    "\n",
    "def intersection(head1,head2):\n",
    "    for i in range(lengthLL(head1)):\n",
    "        if head1.getData()==head2.getData():\n",
    "            return head1.getData()\n",
    "        else:\n",
    "            if head1.getNext() is not None and head2.getNext() is not None:\n",
    "                head1=head1.getNext()\n",
    "                head2=head2.getNext()\n",
    "\n",
    "print(intersection(head1,head2),'is intersection point node value')"
   ]
  },
  {
   "cell_type": "code",
   "execution_count": 9,
   "id": "64a57817-d2f6-4190-a080-d40ab91daa86",
   "metadata": {},
   "outputs": [
    {
     "name": "stdout",
     "output_type": "stream",
     "text": [
      "1->1->2->3->3->\n",
      "1->2->3->"
     ]
    }
   ],
   "source": [
    "#5\n",
    "class Node :\n",
    "\n",
    "  def __init__(self,data=None, next=None):\n",
    "    self.data = data\n",
    "    self.next = next\n",
    "\n",
    "  def setData(self,data):\n",
    "    self.data = data\n",
    "\n",
    "  def getData(self):\n",
    "    return self.data\n",
    "\n",
    "  def setNext(self, next):\n",
    "    self.next = next\n",
    "\n",
    "  def getNext(self):\n",
    "    return self.next\n",
    "\n",
    "def traverse(head):\n",
    "  temp = head\n",
    "  while(temp):\n",
    "    print(temp.getData(),end=\"->\")\n",
    "    temp = temp.getNext()\n",
    "\n",
    "def lengthLL(head):\n",
    "    length = 0\n",
    "    while head:\n",
    "        length += 1\n",
    "        head = head.next\n",
    "    return length\n",
    "\n",
    "head1 = Node(1)\n",
    "node2 = Node(1)\n",
    "node3 = Node(2)\n",
    "node4 = Node(3)\n",
    "node5 = Node(3)\n",
    "head1.setNext(node2)\n",
    "node2.setNext(node3)\n",
    "node3.setNext(node4)\n",
    "node4.setNext(node5)\n",
    "\n",
    "traverse(head1)\n",
    "print()\n",
    "\n",
    "def remove_duplicates(head1):\n",
    "    current=head1\n",
    "    while current and current.getNext():\n",
    "        if current.getData()==current.getNext().getData():\n",
    "            current.setNext(current.getNext().getNext())\n",
    "        else:\n",
    "            current=current.getNext()\n",
    "remove_duplicates(head1)\n",
    "traverse(head1)"
   ]
  },
  {
   "cell_type": "code",
   "execution_count": 20,
   "id": "5e89edd3-949f-4fd0-893b-020207bdf376",
   "metadata": {},
   "outputs": [
    {
     "name": "stdout",
     "output_type": "stream",
     "text": [
      "2->4->3->\n",
      "5->6->4->\n",
      "7->0->8->"
     ]
    }
   ],
   "source": [
    "#6\n",
    "class Node:\n",
    "    def __init__(self, data=None, next=None):\n",
    "        self.data = data\n",
    "        self.next = next\n",
    "\n",
    "    def setData(self, data):\n",
    "        self.data = data\n",
    "\n",
    "    def getData(self):\n",
    "        return self.data\n",
    "\n",
    "    def setNext(self, next):\n",
    "        self.next = next\n",
    "\n",
    "    def getNext(self):\n",
    "        return self.next\n",
    "\n",
    "def traverse(head):\n",
    "    temp = head\n",
    "    while temp:\n",
    "        print(temp.getData(), end=\"->\")\n",
    "        temp = temp.getNext()\n",
    "\n",
    "head1 = Node(2)\n",
    "node2 = Node(4)\n",
    "node3 = Node(3)\n",
    "head1.setNext(node2)\n",
    "node2.setNext(node3)\n",
    "\n",
    "traverse(head1)\n",
    "print()\n",
    "\n",
    "head2 = Node(5)\n",
    "nodeb = Node(6)\n",
    "nodec = Node(4)\n",
    "head2.setNext(nodeb)\n",
    "nodeb.setNext(nodec)\n",
    "\n",
    "traverse(head2)\n",
    "print()\n",
    "\n",
    "def add_nums(head1, head2):\n",
    "    carry = 0\n",
    "    res = Node()\n",
    "    pointer = res\n",
    "\n",
    "    while head1 or head2 or carry:\n",
    "        val1 = head1.getData() if head1 else 0\n",
    "        val2 = head2.getData() if head2 else 0\n",
    "\n",
    "        total = val1 + val2 + carry\n",
    "        carry = total // 10\n",
    "\n",
    "        pointer.setNext(Node(total % 10))\n",
    "\n",
    "        if head1:\n",
    "            head1 = head1.getNext()\n",
    "        if head2:\n",
    "            head2 = head2.getNext()\n",
    "\n",
    "        pointer = pointer.getNext()\n",
    "\n",
    "    return res.getNext()\n",
    "\n",
    "result = add_nums(head1, head2)\n",
    "traverse(result)\n"
   ]
  },
  {
   "cell_type": "code",
   "execution_count": 25,
   "id": "2e36f3e7-e62e-41d5-8406-80b09f282a0d",
   "metadata": {},
   "outputs": [
    {
     "name": "stdout",
     "output_type": "stream",
     "text": [
      "1->2->3->4->\n",
      "2->1->4->3->"
     ]
    }
   ],
   "source": [
    "#7\n",
    "class Node :\n",
    "\n",
    "  def __init__(self,data=None, next=None):\n",
    "    self.data = data\n",
    "    self.next = next\n",
    "\n",
    "  def setData(self,data):\n",
    "    self.data = data\n",
    "\n",
    "  def getData(self):\n",
    "    return self.data\n",
    "\n",
    "  def setNext(self, next):\n",
    "    self.next = next\n",
    "\n",
    "  def getNext(self):\n",
    "    return self.next\n",
    "\n",
    "def traverse(head):\n",
    "  temp = head\n",
    "  while(temp):\n",
    "    print(temp.getData(),end=\"->\")\n",
    "    temp = temp.getNext()\n",
    "\n",
    "head1 = Node(1)\n",
    "node2 = Node(2)\n",
    "node3 = Node(3)\n",
    "node4 = Node(4)\n",
    "head1.setNext(node2)\n",
    "node2.setNext(node3)\n",
    "node3.setNext(node4)\n",
    "\n",
    "traverse(head1)\n",
    "print()\n",
    "\n",
    "def swap_pairs(head1):\n",
    "    dummy=Node(0)\n",
    "    dummy.setNext(head1)\n",
    "    current=dummy\n",
    "    while current.getNext() and current.getNext().getNext():\n",
    "        node1=current.getNext()\n",
    "        node2=current.getNext().getNext()\n",
    "        node1.setNext(node2.getNext())\n",
    "        node2.setNext(node1)\n",
    "        current.setNext(node2)\n",
    "        current=node1\n",
    "    return dummy.getNext()\n",
    "\n",
    "res=swap_pairs(head1)\n",
    "traverse(res)"
   ]
  },
  {
   "cell_type": "code",
   "execution_count": 7,
   "id": "0a7f4089-bbb8-4842-8839-df3c78bdffa1",
   "metadata": {},
   "outputs": [
    {
     "name": "stdout",
     "output_type": "stream",
     "text": [
      "Original Linked List: 1->2->3->4->5\n",
      "After Reversal of k nodes: 3->2->1->4->5\n"
     ]
    }
   ],
   "source": [
    "#8\n",
    "class Node:\n",
    "    def __init__(self, val):\n",
    "        self.val = val\n",
    "        self.next = None\n",
    "\n",
    "def insertNode(head, val):\n",
    "    newNode = Node(val)\n",
    "    if head == None:\n",
    "        head = newNode\n",
    "        return head\n",
    "    temp = head\n",
    "    while temp.next != None:\n",
    "        temp = temp.next\n",
    "    temp.next = newNode\n",
    "    return head\n",
    "\n",
    "def lengthOfLinkedList(head):\n",
    "    length = 0\n",
    "    while head != None:\n",
    "        length += 1\n",
    "        head = head.next\n",
    "    return length\n",
    "\n",
    "def reverseKNodes(head, k):\n",
    "    if head == None or head.next == None:\n",
    "        return head\n",
    "    length = lengthOfLinkedList(head)\n",
    "    dummyHead = Node(0)\n",
    "    dummyHead.next = head\n",
    "    pre = dummyHead\n",
    "    cur = None\n",
    "    nex = None\n",
    "    while length >= k:\n",
    "        cur = pre.next\n",
    "        nex = cur.next\n",
    "        for i in range(1, k):\n",
    "            cur.next = nex.next\n",
    "            nex.next = pre.next\n",
    "            pre.next = nex\n",
    "            nex = cur.next\n",
    "        pre = cur\n",
    "        length -= k\n",
    "    return dummyHead.next\n",
    "\n",
    "def printLinkedList(head):\n",
    "    while head.next != None:\n",
    "        print(head.val, end=\"->\")\n",
    "        head = head.next\n",
    "    print(head.val)\n",
    "\n",
    "if __name__ == \"__main__\":\n",
    "    head = None\n",
    "    k = 3\n",
    "    head = insertNode(head, 1)\n",
    "    head = insertNode(head, 2)\n",
    "    head = insertNode(head, 3)\n",
    "    head = insertNode(head, 4)\n",
    "    head = insertNode(head, 5)\n",
    "   \n",
    "    print(\"Original Linked List: \", end=\"\")\n",
    "    printLinkedList(head)\n",
    "    print(\"After Reversal of k nodes: \", end=\"\")\n",
    "    newHead = reverseKNodes(head, k)\n",
    "    printLinkedList(newHead)"
   ]
  },
  {
   "cell_type": "code",
   "execution_count": 31,
   "id": "79d63c02-a764-476c-a8bf-1185a8d7ff5b",
   "metadata": {},
   "outputs": [
    {
     "name": "stdout",
     "output_type": "stream",
     "text": [
      "1->2->2->1->\n"
     ]
    },
    {
     "data": {
      "text/plain": [
       "True"
      ]
     },
     "execution_count": 31,
     "metadata": {},
     "output_type": "execute_result"
    }
   ],
   "source": [
    "#9\n",
    "class Node :\n",
    "\n",
    "  def __init__(self,data=None, next=None):\n",
    "    self.data = data\n",
    "    self.next = next\n",
    "\n",
    "  def setData(self,data):\n",
    "    self.data = data\n",
    "\n",
    "  def getData(self):\n",
    "    return self.data\n",
    "\n",
    "  def setNext(self, next):\n",
    "    self.next = next\n",
    "\n",
    "  def getNext(self):\n",
    "    return self.next\n",
    "\n",
    "def traverse(head):\n",
    "  temp = head\n",
    "  while(temp):\n",
    "    print(temp.getData(),end=\"->\")\n",
    "    temp = temp.getNext()\n",
    "\n",
    "head1 = Node(1)\n",
    "node2 = Node(2)\n",
    "node3 = Node(2)\n",
    "node4 = Node(1)\n",
    "head1.setNext(node2)\n",
    "node2.setNext(node3)\n",
    "node3.setNext(node4)\n",
    "\n",
    "traverse(head1)\n",
    "print()\n",
    "\n",
    "def is_palindrome(head1):\n",
    "    values=[]\n",
    "    temp = head1\n",
    "    while(temp):\n",
    "        values.append(temp.getData())\n",
    "        temp = temp.getNext() \n",
    "    return values==values[::-1]\n",
    "\n",
    "is_palindrome(head1)"
   ]
  },
  {
   "cell_type": "code",
   "execution_count": 9,
   "id": "a878ffeb-caf9-4760-9f13-85c88c8b85c5",
   "metadata": {},
   "outputs": [
    {
     "name": "stdout",
     "output_type": "stream",
     "text": [
      "4 -> 5 -> 1 -> 2 -> 3 -> "
     ]
    }
   ],
   "source": [
    "#10\n",
    "class ListNode:\n",
    "    def __init__(self, val=0, next=None):\n",
    "        self.val = val\n",
    "        self.next = next\n",
    "\n",
    "def rotateRight(head, k):\n",
    "    if not head or k == 0:\n",
    "        return head\n",
    "    length = 1\n",
    "    current = head\n",
    "    while current.next:\n",
    "        length += 1\n",
    "        current = current.next\n",
    "    k = k % length\n",
    "    if k == 0:\n",
    "        return head \n",
    "    fast = slow = head\n",
    "    for _ in range(k):\n",
    "        fast = fast.next\n",
    "    while fast.next:\n",
    "        slow = slow.next\n",
    "        fast = fast.next\n",
    "    new_head = slow.next\n",
    "    slow.next = None\n",
    "    fast.next = head\n",
    "    return new_head\n",
    "\n",
    "head = ListNode(1, ListNode(2, ListNode(3, ListNode(4, ListNode(5)))))\n",
    "k = 2\n",
    "result = rotateRight(head, k)\n",
    "while result:\n",
    "    print(result.val, end=\" -> \")\n",
    "    result = result.next"
   ]
  },
  {
   "cell_type": "code",
   "execution_count": 1,
   "id": "bfad2e53-ed08-4161-8111-24baf74ada59",
   "metadata": {},
   "outputs": [
    {
     "name": "stdout",
     "output_type": "stream",
     "text": [
      "1 <-> 2 <-> 3 <-> 4 <-> 5 <-> 6 <-> 7 <-> 8 <-> 9 <-> 10 <-> 11 <-> 12 <-> 13\n"
     ]
    }
   ],
   "source": [
    "#11\n",
    "class Node:\n",
    "    def __init__(self, value, prev=None, next=None, child=None):\n",
    "        self.value = value\n",
    "        self.prev = prev\n",
    "        self.next = next\n",
    "        self.child = child\n",
    "def flatten_and_sort(head):\n",
    "    if not head:\n",
    "        return None\n",
    "    current = head\n",
    "    while current:\n",
    "        if current.child:\n",
    "            next_node = current.next\n",
    "            current.next = current.child\n",
    "            current.child.prev = current\n",
    "            current.child = None\n",
    "            while current.next:\n",
    "                current = current.next\n",
    "            current.next = next_node\n",
    "            if next_node:\n",
    "                next_node.prev = current\n",
    "        current = current.next\n",
    "    sorted_head = merge_sort(head)\n",
    "    return sorted_head\n",
    "def merge_sort(head):\n",
    "    if not head or not head.next:\n",
    "        return head\n",
    "    middle = get_middle(head)\n",
    "    middle_next = middle.next\n",
    "    middle.next = None\n",
    "    left = merge_sort(head)\n",
    "    right = merge_sort(middle_next)\n",
    "    return merge(left, right)\n",
    "def get_middle(head):\n",
    "    slow = head\n",
    "    fast = head\n",
    "    while fast and fast.next and fast.next.next:\n",
    "        slow = slow.next\n",
    "        fast = fast.next.next\n",
    "    return slow\n",
    "def merge(left, right):\n",
    "    dummy = Node(0)\n",
    "    current = dummy\n",
    "    while left and right:\n",
    "        if left.value < right.value:\n",
    "            current.next = left\n",
    "            left.prev = current\n",
    "            left = left.next\n",
    "        else:\n",
    "            current.next = right\n",
    "            right.prev = current\n",
    "            right = right.next\n",
    "        current = current.next\n",
    "    if left:\n",
    "        current.next = left\n",
    "        left.prev = current\n",
    "    if right:\n",
    "        current.next = right\n",
    "        right.prev = current\n",
    "    return dummy.next\n",
    "def print_list(head):\n",
    "    result = []\n",
    "    current = head\n",
    "    while current:\n",
    "        result.append(current.value)\n",
    "        current = current.next\n",
    "    print(\" <-> \".join(map(str, result)))\n",
    "\n",
    "head = Node(1)\n",
    "head.next = Node(2)\n",
    "head.next.prev = head\n",
    "head.next.next = Node(3)\n",
    "head.next.next.prev = head.next\n",
    "head.next.next.next = Node(7)\n",
    "head.next.next.next.prev = head.next.next\n",
    "head.next.next.next.next = Node(8)\n",
    "head.next.next.next.next.prev = head.next.next.next\n",
    "head.next.next.next.next.next = Node(11)\n",
    "head.next.next.next.next.next.prev = head.next.next.next.next\n",
    "head.next.next.next.next.next.next = Node(12)\n",
    "head.next.next.next.next.next.next.prev = head.next.next.next.next.next\n",
    "head.next.next.child = Node(4)\n",
    "head.next.next.child.next = Node(5)\n",
    "head.next.next.child.next.prev = head.next.next.child\n",
    "head.next.next.child.next.next = Node(9)\n",
    "head.next.next.child.next.next.prev = head.next.next.child.next\n",
    "head.next.next.child.next.next.next = Node(10)\n",
    "head.next.next.child.next.next.next.prev = head.next.next.child.next.next\n",
    "head.next.next.next.next.next.next.next = Node(6)\n",
    "head.next.next.next.next.next.next.next.prev = head.next.next.next.next.next.next\n",
    "head.next.next.next.next.next.next.next.next = Node(13)\n",
    "head.next.next.next.next.next.next.next.next.prev = head.next.next.next.next.next.next.next\n",
    "\n",
    "sorted_head = flatten_and_sort(head)\n",
    "print_list(sorted_head)"
   ]
  },
  {
   "cell_type": "code",
   "execution_count": 5,
   "id": "2d7aea66-8a3d-4e77-8053-7212a9d3492c",
   "metadata": {},
   "outputs": [
    {
     "name": "stdout",
     "output_type": "stream",
     "text": [
      "1 -> 3 -> 5 -> 2 -> 4 -> None\n"
     ]
    }
   ],
   "source": [
    "#12\n",
    "class ListNode:\n",
    "    def __init__(self, val=0, next=None):\n",
    "        self.val = val\n",
    "        self.next = next\n",
    "\n",
    "def rearrange_linked_list(head):\n",
    "    if not head or not head.next or not head.next.next:\n",
    "        return head\n",
    "    odd_head = ListNode(0)\n",
    "    even_head = ListNode(0)\n",
    "    odd_ptr, even_ptr = odd_head, even_head\n",
    "    current = head\n",
    "    is_odd = True\n",
    "    while current:\n",
    "        if is_odd:\n",
    "            odd_ptr.next = current\n",
    "            odd_ptr = odd_ptr.next\n",
    "        else:\n",
    "            even_ptr.next = current\n",
    "            even_ptr = even_ptr.next\n",
    "        is_odd = not is_odd\n",
    "        current = current.next\n",
    "    odd_ptr.next = even_head.next\n",
    "    even_ptr.next = None\n",
    "    return odd_head.next\n",
    "def print_linked_list(head):\n",
    "    while head:\n",
    "        print(head.val, end=\" -> \")\n",
    "        head = head.next\n",
    "    print(\"None\")\n",
    "input_list = ListNode(1, ListNode(2, ListNode(3, ListNode(4, ListNode(5)))))\n",
    "output_list = rearrange_linked_list(input_list)\n",
    "print_linked_list(output_list)"
   ]
  },
  {
   "cell_type": "code",
   "execution_count": 7,
   "id": "55d56359-7bef-421d-bbb2-1ebdccf6e50f",
   "metadata": {},
   "outputs": [
    {
     "name": "stdout",
     "output_type": "stream",
     "text": [
      "1->2->3->\n"
     ]
    }
   ],
   "source": [
    "#13\n",
    "class Node :\n",
    "\n",
    "  def __init__(self,data=None, next=None):\n",
    "    self.data = data\n",
    "    self.next = next\n",
    "\n",
    "  def setData(self,data):\n",
    "    self.data = data\n",
    "\n",
    "  def getData(self):\n",
    "    return self.data\n",
    "\n",
    "  def setNext(self, next):\n",
    "    self.next = next\n",
    "\n",
    "  def getNext(self):\n",
    "    return self.next\n",
    "\n",
    "def traverse(head):\n",
    "  temp = head\n",
    "  while(temp):\n",
    "    print(temp.getData(),end=\"->\")\n",
    "    temp = temp.getNext()\n",
    "\n",
    "head1 = Node(1)\n",
    "node2 = Node(2)\n",
    "node3 = Node(3)\n",
    "head1.setNext(node2)\n",
    "node2.setNext(node3)\n",
    "\n",
    "traverse(head1)\n",
    "print()\n",
    "\n",
    "def add_one(head1):\n",
    "    pass"
   ]
  },
  {
   "cell_type": "code",
   "execution_count": 7,
   "id": "2db6fd8a-2e98-4731-95a5-0628605e8cbd",
   "metadata": {},
   "outputs": [
    {
     "data": {
      "text/plain": [
       "2"
      ]
     },
     "execution_count": 7,
     "metadata": {},
     "output_type": "execute_result"
    }
   ],
   "source": [
    "#14\n",
    "def search_insert(arr,target):\n",
    "    left,right=0,len(arr)-1\n",
    "    while left<=right:\n",
    "        mid=left+(right-left)//2\n",
    "        if arr[mid]==target:\n",
    "            return mid\n",
    "        elif target<arr[mid]:\n",
    "            right=mid-1\n",
    "        else:\n",
    "            left=mid+1\n",
    "    return left\n",
    "\n",
    "nums=[1,3,5,6]\n",
    "target=5\n",
    "search_insert(nums,target)"
   ]
  },
  {
   "cell_type": "code",
   "execution_count": 1,
   "id": "9c28d1be-c623-4eaa-9d13-8377597b5566",
   "metadata": {},
   "outputs": [
    {
     "name": "stdout",
     "output_type": "stream",
     "text": [
      "0\n"
     ]
    }
   ],
   "source": [
    "#15\n",
    "def min_rot_sort(arr):\n",
    "    n=len(arr)\n",
    "    for i in range(0,n):\n",
    "        if arr[i]<arr[(i+1)%n] and arr[i]<arr[(i-1)%n]:\n",
    "            return arr[i]\n",
    "print(min_rot_sort([4,5,6,7,0,1,2]))"
   ]
  },
  {
   "cell_type": "code",
   "execution_count": 5,
   "id": "15c1db9b-f3f4-4925-8013-15af0fa06301",
   "metadata": {},
   "outputs": [
    {
     "data": {
      "text/plain": [
       "4"
      ]
     },
     "execution_count": 5,
     "metadata": {},
     "output_type": "execute_result"
    }
   ],
   "source": [
    "#16\n",
    "def search(arr,target):\n",
    "    left,right=0,len(arr)-1\n",
    "    while left<=right:\n",
    "        mid=left+(right-left)//2\n",
    "        if arr[mid]==target:\n",
    "            return mid\n",
    "        if arr[mid]>=arr[left]:\n",
    "            if arr[left]<=target<arr[mid]:\n",
    "                right=mid-1\n",
    "            else:\n",
    "                left=mid+1\n",
    "        else:\n",
    "            if arr[mid]<=target<arr[right]:\n",
    "                left=mid+1\n",
    "            else:\n",
    "                right=mid-1\n",
    "    return -1\n",
    "\n",
    "arr=[4,5,6,7,0,1,2]\n",
    "target=0\n",
    "search(arr,target)"
   ]
  },
  {
   "cell_type": "code",
   "execution_count": 8,
   "id": "628f6b01-2fff-4e02-9fba-bdc9703396bb",
   "metadata": {},
   "outputs": [
    {
     "name": "stdout",
     "output_type": "stream",
     "text": [
      "2\n"
     ]
    }
   ],
   "source": [
    "#17\n",
    "def find_peak_element(nums):\n",
    "    left,right=0,len(nums)-1\n",
    "    while left<right:\n",
    "        mid=left+(right-left)//2\n",
    "        if nums[mid]>nums[mid+1]:\n",
    "            right=mid\n",
    "        else:\n",
    "            left=mid+1\n",
    "    return left\n",
    "nums=[1,2,3,1]\n",
    "result=find_peak_element(nums)\n",
    "print(result)"
   ]
  },
  {
   "cell_type": "code",
   "execution_count": 4,
   "id": "eb8dff86-37fb-4e08-a782-189626134da3",
   "metadata": {},
   "outputs": [
    {
     "name": "stdout",
     "output_type": "stream",
     "text": [
      "8\n"
     ]
    }
   ],
   "source": [
    "#18\n",
    "def count_negatives(grid):\n",
    "    m, n = len(grid), len(grid[0])\n",
    "    count = 0\n",
    "    row, col = 0, n - 1 \n",
    "    while row < m and col >= 0:\n",
    "        if grid[row][col] < 0:\n",
    "            count += (m - row)\n",
    "            col -= 1  \n",
    "        else:\n",
    "            row += 1  \n",
    "    return count\n",
    "grid = [[4, 3, 2, -1], [3, 2, 1, -1], [1, 1, -1, -2], [-1, -1, -2, -3]]\n",
    "result = count_negatives(grid)\n",
    "print(result) "
   ]
  },
  {
   "cell_type": "code",
   "execution_count": 6,
   "id": "4ea4851a-2675-4927-9cb5-f6fba74f8141",
   "metadata": {},
   "outputs": [
    {
     "name": "stdout",
     "output_type": "stream",
     "text": [
      "True\n"
     ]
    }
   ],
   "source": [
    "#19\n",
    "def search_matrix(matrix, target):\n",
    "    if not matrix or not matrix[0]:\n",
    "        return False\n",
    "    m, n = len(matrix), len(matrix[0])\n",
    "    left, right = 0, m * n - 1\n",
    "    while left <= right:\n",
    "        mid = (left + right) // 2\n",
    "        mid_value = matrix[mid // n][mid % n]\n",
    "        if mid_value == target:\n",
    "            return True\n",
    "        elif mid_value < target:\n",
    "            left = mid + 1\n",
    "        else:\n",
    "            right = mid - 1\n",
    "    return False\n",
    "matrix = [[1, 3, 5, 7], [10, 11, 16, 20], [23, 30, 34, 60]]\n",
    "target = 3\n",
    "result = search_matrix(matrix, target)\n",
    "print(result) "
   ]
  },
  {
   "cell_type": "code",
   "execution_count": 6,
   "id": "a0c3cf53-6895-44d1-bd13-0d5b43fc8c2a",
   "metadata": {},
   "outputs": [
    {
     "data": {
      "text/plain": [
       "2"
      ]
     },
     "execution_count": 6,
     "metadata": {},
     "output_type": "execute_result"
    }
   ],
   "source": [
    "#20\n",
    "def bsort(arr):\n",
    "    for i in range(len(arr)-1,0,-1):\n",
    "        for j in range(i):\n",
    "            if arr[j]>arr[j+1]:\n",
    "                arr[j],arr[j+1]=arr[j+1],arr[j]\n",
    "def combined_median(nums1,nums2):\n",
    "    merged=nums1+nums2\n",
    "    bsort(merged)\n",
    "    n=len(merged)\n",
    "    if n%2==0:\n",
    "        mid1=n//2\n",
    "        mid2=mid1-1\n",
    "        median=(merged[mid1]+merged[mid2])/2\n",
    "        return median\n",
    "    else:\n",
    "        mid=n//2\n",
    "        return merged[mid]\n",
    "nums1=[1,3]\n",
    "nums2=[2]\n",
    "combined_median(nums1,nums2)"
   ]
  },
  {
   "cell_type": "code",
   "execution_count": 17,
   "id": "52239aa7-9a0b-4d38-8f28-97ccd4612766",
   "metadata": {},
   "outputs": [
    {
     "data": {
      "text/plain": [
       "'c'"
      ]
     },
     "execution_count": 17,
     "metadata": {},
     "output_type": "execute_result"
    }
   ],
   "source": [
    "#21\n",
    "def bin_search(letters,target):\n",
    "    start,end=0,len(arr)-1\n",
    "    result=None\n",
    "    while start<=end:\n",
    "        mid=int(start+(end-start)/2)\n",
    "        if letters[mid]>target:\n",
    "            result=letters[mid]\n",
    "            end=mid-1\n",
    "        else:\n",
    "            start=mid+1\n",
    "    return result if result is not None else letters[0]\n",
    "letters=['c','f','j']\n",
    "target='a'\n",
    "bin_search(letters,target)"
   ]
  },
  {
   "cell_type": "code",
   "execution_count": 14,
   "id": "47a65203-0a06-4b4e-9d6a-12e41bfccaa1",
   "metadata": {},
   "outputs": [
    {
     "name": "stdout",
     "output_type": "stream",
     "text": [
      "[0, 0, 1, 1, 2, 2]\n"
     ]
    }
   ],
   "source": [
    "#22\n",
    "def colourSort(arr):\n",
    "    low,mid,high=0,0,len(arr)-1\n",
    "    while mid<=high:\n",
    "        if arr[mid]==0:\n",
    "            arr[low],arr[mid]=arr[mid],arr[low]\n",
    "            low+=1\n",
    "            mid+=1\n",
    "        elif arr[mid]==1:\n",
    "            mid+=1\n",
    "        else:\n",
    "            arr[mid],arr[high]=arr[high],arr[mid]\n",
    "            high-=1\n",
    "arr=[2,0,2,1,1,0]\n",
    "colourSort(arr)\n",
    "print(arr)"
   ]
  },
  {
   "cell_type": "code",
   "execution_count": 11,
   "id": "ed9d8e95-54f9-4f22-bcaf-e131a4eed2f1",
   "metadata": {},
   "outputs": [
    {
     "data": {
      "text/plain": [
       "5"
      ]
     },
     "execution_count": 11,
     "metadata": {},
     "output_type": "execute_result"
    }
   ],
   "source": [
    "#23\n",
    "def bsortrev(arr):\n",
    "    for i in range(len(arr)-1,0,-1):\n",
    "        for j in range(i):\n",
    "            if arr[j]<arr[j+1]:\n",
    "                arr[j],arr[j+1]=arr[j+1],arr[j]\n",
    "def kth_largest(arr,k):\n",
    "    bsortrev(arr)\n",
    "    return arr[k-1]\n",
    "k=2\n",
    "arr=[3,2,1,5,6,4]\n",
    "kth_largest(arr,k)"
   ]
  },
  {
   "cell_type": "code",
   "execution_count": 1,
   "id": "3b42e0ab-00f7-458e-a1b6-4db99c3926df",
   "metadata": {},
   "outputs": [
    {
     "name": "stdout",
     "output_type": "stream",
     "text": [
      "[3, 5, 2, 6, 1, 4]\n"
     ]
    }
   ],
   "source": [
    "#24\n",
    "def zig_zag_sort(arr):\n",
    "    n=len(arr)\n",
    "    for i in range(1,n,2):\n",
    "        if i<n-1 and arr[i]<arr[i+1]:\n",
    "            arr[i],arr[i+1]=arr[i+1],arr[i]\n",
    "        if arr[i]<arr[i-1]:\n",
    "            arr[i],arr[i-1]=arr[i-1],arr[i]\n",
    "arr=[3,5,2,1,6,4]\n",
    "zig_zag_sort(arr)\n",
    "print(arr)"
   ]
  },
  {
   "cell_type": "code",
   "execution_count": 5,
   "id": "a76b5b78-d0cc-492d-94c5-9dd9388f31c2",
   "metadata": {},
   "outputs": [
    {
     "data": {
      "text/plain": [
       "15"
      ]
     },
     "execution_count": 5,
     "metadata": {},
     "output_type": "execute_result"
    }
   ],
   "source": [
    "#25\n",
    "def total_sum(arr):\n",
    "    total=0\n",
    "    for num in arr:\n",
    "        total+=num\n",
    "    return total\n",
    "total_sum([1,2,3,4,5])"
   ]
  },
  {
   "cell_type": "code",
   "execution_count": 7,
   "id": "eaa3a023-f201-4f0e-b4b0-967e56cd8912",
   "metadata": {},
   "outputs": [
    {
     "data": {
      "text/plain": [
       "9"
      ]
     },
     "execution_count": 7,
     "metadata": {},
     "output_type": "execute_result"
    }
   ],
   "source": [
    "#26\n",
    "def maximum(arr):\n",
    "    largest=arr[0]\n",
    "    for num in arr:\n",
    "        if num>largest:\n",
    "            largest=num\n",
    "    return largest\n",
    "maximum([3,7,2,9,4,1])"
   ]
  },
  {
   "cell_type": "code",
   "execution_count": 8,
   "id": "3b7e34d6-a5c0-49ba-ac7a-476f7e93aad4",
   "metadata": {},
   "outputs": [
    {
     "data": {
      "text/plain": [
       "2"
      ]
     },
     "execution_count": 8,
     "metadata": {},
     "output_type": "execute_result"
    }
   ],
   "source": [
    "#27\n",
    "def lin_search(arr,target):\n",
    "    for i in range(0,len(arr)):\n",
    "        if arr[i]==target:\n",
    "            return i\n",
    "lin_search([5,3,8,2,7,4],8)"
   ]
  },
  {
   "cell_type": "code",
   "execution_count": 6,
   "id": "03ab61a3-78c4-47d8-937c-c86a57ffda96",
   "metadata": {},
   "outputs": [
    {
     "data": {
      "text/plain": [
       "120"
      ]
     },
     "execution_count": 6,
     "metadata": {},
     "output_type": "execute_result"
    }
   ],
   "source": [
    "#28\n",
    "def fact(n):\n",
    "    if n<=1:\n",
    "        return 1\n",
    "    else:\n",
    "        return n*fact(n-1)\n",
    "fact(5)"
   ]
  },
  {
   "cell_type": "code",
   "execution_count": 8,
   "id": "3aa032e7-9f62-4cf2-b2fc-ff1a323ee1b0",
   "metadata": {},
   "outputs": [
    {
     "name": "stdout",
     "output_type": "stream",
     "text": [
      "True\n"
     ]
    }
   ],
   "source": [
    "#29\n",
    "def is_prime(n):\n",
    "    if n<=1:\n",
    "        return False\n",
    "    for i in range(2,int(n**0.5)+1):\n",
    "        if n%i==0:\n",
    "            return False\n",
    "    return True\n",
    "print(is_prime(7)) "
   ]
  },
  {
   "cell_type": "code",
   "execution_count": 6,
   "id": "bd61977d-7adb-4292-983d-d377b665fa08",
   "metadata": {},
   "outputs": [
    {
     "name": "stdout",
     "output_type": "stream",
     "text": [
      "[0, 1, 1, 2, 3, 5, 8, 13]\n"
     ]
    }
   ],
   "source": [
    "#30\n",
    "def fibonacci(n):\n",
    "  a,b=0,1\n",
    "  fibonacci_series=[]\n",
    "  for i in range(n):\n",
    "    fibonacci_series.append(a)\n",
    "    a,b=b,a+b\n",
    "  return fibonacci_series\n",
    "n=8\n",
    "fibonacci_series=fibonacci(n)\n",
    "print(fibonacci_series)  "
   ]
  },
  {
   "cell_type": "code",
   "execution_count": 9,
   "id": "252743c1-e765-4fd9-a842-e8caa0c15936",
   "metadata": {},
   "outputs": [
    {
     "data": {
      "text/plain": [
       "81"
      ]
     },
     "execution_count": 9,
     "metadata": {},
     "output_type": "execute_result"
    }
   ],
   "source": [
    "#31\n",
    "def pow(b,e):\n",
    "    if e==0:\n",
    "        return 1\n",
    "    else:\n",
    "        return b*pow(b,e-1)\n",
    "pow(3,4)"
   ]
  },
  {
   "cell_type": "code",
   "execution_count": 8,
   "id": "531542a5-cb99-48bf-9b32-5bc64ead81eb",
   "metadata": {},
   "outputs": [
    {
     "data": {
      "text/plain": [
       "'olleh'"
      ]
     },
     "execution_count": 8,
     "metadata": {},
     "output_type": "execute_result"
    }
   ],
   "source": [
    "#32\n",
    "def rev_string(s):\n",
    "    if len(s)==1:\n",
    "        return s\n",
    "    else:\n",
    "        return s[-1]+rev_string(s[:-1])\n",
    "s='hello'\n",
    "rev_string(s)"
   ]
  }
 ],
 "metadata": {
  "kernelspec": {
   "display_name": "Python 3 (ipykernel)",
   "language": "python",
   "name": "python3"
  },
  "language_info": {
   "codemirror_mode": {
    "name": "ipython",
    "version": 3
   },
   "file_extension": ".py",
   "mimetype": "text/x-python",
   "name": "python",
   "nbconvert_exporter": "python",
   "pygments_lexer": "ipython3",
   "version": "3.11.6"
  }
 },
 "nbformat": 4,
 "nbformat_minor": 5
}
